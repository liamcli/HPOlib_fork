{
 "cells": [
  {
   "cell_type": "code",
   "execution_count": 27,
   "metadata": {
    "collapsed": false
   },
   "outputs": [],
   "source": [
    "import os\n",
    "import fnmatch\n",
    "from numpy import genfromtxt,min,mean,std"
   ]
  },
  {
   "cell_type": "code",
   "execution_count": 41,
   "metadata": {
    "collapsed": false
   },
   "outputs": [],
   "source": [
    "path = '/home/lisha/school/HPOlib/benchmarks/HPOlib-logreg'\n",
    "\n",
    "configfiles = [os.path.join(dirpath, f)\n",
    "    for dirpath, dirnames, files in os.walk(path)\n",
    "    for f in fnmatch.filter(files, 'runs_and_results-*')]"
   ]
  },
  {
   "cell_type": "code",
   "execution_count": null,
   "metadata": {
    "collapsed": false
   },
   "outputs": [],
   "source": []
  },
  {
   "cell_type": "code",
   "execution_count": 42,
   "metadata": {
    "collapsed": false
   },
   "outputs": [],
   "source": [
    "trial_results = []\n",
    "for f in configfiles:\n",
    "    data = genfromtxt(f,delimiter=',',skip_header=1)\n",
    "    error = data[:,3]\n",
    "    trial_results.append(min(error))\n",
    "    \n",
    "    "
   ]
  },
  {
   "cell_type": "code",
   "execution_count": 43,
   "metadata": {
    "collapsed": false
   },
   "outputs": [
    {
     "data": {
      "text/plain": [
       "[0.096464999999999995,\n",
       " 0.088832999999999995,\n",
       " 0.081689999999999999,\n",
       " 0.107391,\n",
       " 0.079106999999999997,\n",
       " 0.080642000000000005,\n",
       " 0.089080999999999994,\n",
       " 0.096988000000000005,\n",
       " 0.083854999999999999,\n",
       " 0.076164999999999997,\n",
       " 0.083940000000000001]"
      ]
     },
     "execution_count": 43,
     "metadata": {},
     "output_type": "execute_result"
    }
   ],
   "source": [
    "trial_results"
   ]
  },
  {
   "cell_type": "code",
   "execution_count": 44,
   "metadata": {
    "collapsed": false
   },
   "outputs": [
    {
     "data": {
      "text/plain": [
       "(0.087650636363636361, 0.0089226201744139894)"
      ]
     },
     "execution_count": 44,
     "metadata": {},
     "output_type": "execute_result"
    }
   ],
   "source": [
    "(mean(trial_results),std(trial_results))"
   ]
  },
  {
   "cell_type": "code",
   "execution_count": null,
   "metadata": {
    "collapsed": true
   },
   "outputs": [],
   "source": []
  }
 ],
 "metadata": {
  "kernelspec": {
   "display_name": "Python 2",
   "language": "python",
   "name": "python2"
  },
  "language_info": {
   "codemirror_mode": {
    "name": "ipython",
    "version": 2
   },
   "file_extension": ".py",
   "mimetype": "text/x-python",
   "name": "python",
   "nbconvert_exporter": "python",
   "pygments_lexer": "ipython2",
   "version": "2.7.10"
  }
 },
 "nbformat": 4,
 "nbformat_minor": 0
}
