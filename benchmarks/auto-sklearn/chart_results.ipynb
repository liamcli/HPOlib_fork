{
 "cells": [
  {
   "cell_type": "code",
   "execution_count": 6,
   "metadata": {
    "collapsed": false
   },
   "outputs": [],
   "source": [
    "import numpy\n",
    "import pickle\n",
    "import copy\n",
    "import scipy.stats\n",
    "import matplotlib.pyplot as plt\n",
    "from matplotlib.backends.backend_pdf import PdfPages"
   ]
  },
  {
   "cell_type": "code",
   "execution_count": 123,
   "metadata": {
    "collapsed": true
   },
   "outputs": [],
   "source": [
    "def combine_results(results,results_smac=None,random_speed_up=False,smac_baseline=False):\n",
    "    searchers=results[results.keys()[0]].keys()\n",
    "    n_intervals=len(results[results.keys()[0]]['random'][2])\n",
    "    if results_smac is None and not random_speed_up:\n",
    "        return results\n",
    "    new_results=results\n",
    "    if results_smac is not None:\n",
    "        for d in results.keys():\n",
    "            for s in ['random','nvb']:\n",
    "                new_results[d][s+'_smac']=results_smac[d][s]\n",
    "    if smac_baseline:\n",
    "        #for d in results.keys():\n",
    "            #trials=[results[d]['smac'][0]]\n",
    "            #data=[[results[d]['smac'][i][0]]*n_intervals for i in range(1,len(results[d]['smac']))]\n",
    "            #new_results[d]['rf_baseline']=trials+data\n",
    "        new_results[d]['rf_baseline']=results[d]['rf_baseline']\n",
    "    if random_speed_up:\n",
    "        for d in results.keys():\n",
    "            for s in ['random','random_smac']:\n",
    "                if s in new_results[d].keys():\n",
    "                    for interval in [2,3]:\n",
    "                        new_data=[data[interval-1::interval] for data in new_results[d][s][1:]]\n",
    "                        new_data.insert(0,new_results[d][s][0])\n",
    "                        new_results[d][s+'_'+str(interval)+'x']=new_data\n",
    "    return new_results\n",
    "                    "
   ]
  },
  {
   "cell_type": "code",
   "execution_count": 116,
   "metadata": {
    "collapsed": false
   },
   "outputs": [],
   "source": [
    "def parse_results(results,is_mean,rf_baseline=False,relative=True):\n",
    "    searchers=results[results.keys()[0]].keys()\n",
    "    print searchers\n",
    "    searchers_val_avg={}\n",
    "    searchers_test_avg={}\n",
    "    test_ind = 2\n",
    "    if is_mean:\n",
    "        test_ind=3\n",
    "    if rf_baseline:\n",
    "        for s in searchers:\n",
    "            val_errors=numpy.asarray([numpy.asarray(results[d][s][1])-numpy.nanmin(results[d]['rf_baseline'][1]) for d in results.keys()])\n",
    "            test_errors=numpy.asarray([numpy.asarray(results[d][s][test_ind])-numpy.nanmin(results[d]['rf_baseline'][test_ind]) for d in results.keys()])    \n",
    "            searchers_val_avg[s]=numpy.mean(val_errors,axis=0)\n",
    "            searchers_test_avg[s]=numpy.mean(test_errors,axis=0)\n",
    "    elif relative:\n",
    "        for s in searchers:\n",
    "            val_errors=numpy.asarray([(1-numpy.asarray(results[d][s][1]))/(1-numpy.nanmin(results[d]['rf_baseline'][1])) for d in results.keys()])\n",
    "            test_errors=numpy.asarray([(1-numpy.asarray(results[d][s][test_ind]))/(1-numpy.nanmin(results[d]['rf_baseline'][test_ind])) for d in results.keys()]) \n",
    "            searchers_val_avg[s]=numpy.mean(val_errors,axis=0)\n",
    "            searchers_test_avg[s]=numpy.mean(test_errors,axis=0)\n",
    "    else:\n",
    "        for s in searchers:\n",
    "            val_errors=numpy.asarray([numpy.asarray(results[d][s][1]) for d in results.keys()])\n",
    "            test_errors=numpy.asarray([numpy.asarray(results[d][s][test_ind]) for d in results.keys()])    \n",
    "            searchers_val_avg[s]=numpy.mean(val_errors,axis=0)\n",
    "            searchers_test_avg[s]=numpy.mean(test_errors,axis=0)\n",
    "    \n",
    "    return searchers_val_avg,searchers_test_avg"
   ]
  },
  {
   "cell_type": "code",
   "execution_count": 3,
   "metadata": {
    "collapsed": true
   },
   "outputs": [],
   "source": [
    "def compute_ranks(results,intervals,is_mean,searchers=None,is_val=False):\n",
    "    if is_val:\n",
    "        ind=1\n",
    "    else:\n",
    "        if is_mean:\n",
    "            ind=3\n",
    "        else:\n",
    "            ind=2\n",
    "    all_ranks={}\n",
    "    if searchers is None:\n",
    "        searchers=searchers_val_avg.keys()\n",
    "    for s in searchers:\n",
    "        all_ranks[s]=[]\n",
    "    for t in range(len(intervals)):\n",
    "        t_ranks={}\n",
    "        for s in searchers:\n",
    "            t_ranks[s]=[]\n",
    "        for d in results.keys():\n",
    "            array=numpy.array([combined_results[d][s][ind][t] for s in searchers])\n",
    "            ranks=scipy.stats.rankdata(array)\n",
    "            for s in range(len(searchers)):\n",
    "                t_ranks[searchers[s]].append(ranks[s])\n",
    "        for s in searchers:\n",
    "            all_ranks[s].append(numpy.mean(t_ranks[s]))\n",
    "    return all_ranks"
   ]
  },
  {
   "cell_type": "code",
   "execution_count": 196,
   "metadata": {
    "collapsed": false
   },
   "outputs": [],
   "source": [
    "def chart_errors(searchers_val_avg,searchers_test_avg,searchers_val_avg_rel,searchers_test_avg_rel,test_ranks,val_ranks,is_mean,intervals,file_name=None):\n",
    "    val_lim=[.08,.13]\n",
    "    test_lim=[0.1,.15]\n",
    "    #val_lim=[-0.07,0]\n",
    "    #test_lim=[-0.05,0]\n",
    "    val_lim_rel=[0.95,1.05]\n",
    "    test_lim_rel=[0.95,1.01]\n",
    "    xlabel='Time (s)'\n",
    "    if is_mean:\n",
    "        chart_title='Mean'\n",
    "        if file_name is None:\n",
    "            file_name='aggregate_errors_mean.pdf'\n",
    "    else:\n",
    "        chart_title='Median'\n",
    "        if file_name is None:\n",
    "            file_name='aggregate_errors_median.pdf'\n",
    "        #val_lim=[0.08,.12]\n",
    "        #test_lim=[0.09,0.13]\n",
    "    pdf_file=PdfPages(file_name)\n",
    "    color={'smac':'r','hyperopt':'b','nvb':'y','random':'g', 'random_2x':'g','random_3x':'g','nvb_smac':'y','random_smac':'g','random_smac_2x':'g','random_smac_3x':'g','rf_baseline':'k'}\n",
    "    linestyle={'smac':'-','hyperopt':'-','nvb':'-','random':'-', 'random_2x':'-','random_3x':'-','nvb_smac':'--','random_smac':'--','random_smac_2x':'--','random_smac_3x':'--','rf_baseline':'-'}\n",
    "    marker={'random_2x':'+','random_3x':'x','random_smac_2x':'+','random_smac_3x':'x'}\n",
    "    #intervals=range(30,3601,30)\n",
    "    plt.figure(figsize=(11,8.5))\n",
    "    plt.suptitle(chart_title+ ' Best Validation Error (left) and Corresponding Test Accuracy (right)')\n",
    "    plt.subplot(121)\n",
    "    indices=range(4,len(intervals),5)\n",
    "    for s in ['smac','hyperopt','random','nvb','random_smac','nvb_smac','rf_baseline']:\n",
    "        plt.plot([intervals[i] for i in indices],[searchers_val_avg[s][i] for i in indices],label=s,color=color[s],linestyle=linestyle[s])\n",
    "    for s in ['random_2x','random_smac_2x']:\n",
    "        plt.plot([intervals[i] for i in indices],[searchers_val_avg[s][i] for i in indices],label=s,color=color[s],linestyle=linestyle[s],marker=marker[s])\n",
    "    plt.xlabel(xlabel)\n",
    "    plt.ylim(val_lim)\n",
    "    plt.legend(loc=1)\n",
    "    plt.subplot(122)\n",
    "    for s in ['smac','hyperopt','random','nvb','random_smac','nvb_smac','rf_baseline']:\n",
    "        plt.plot([intervals[i] for i in indices],[searchers_test_avg[s][i] for i in indices],label=s,color=color[s],linestyle=linestyle[s])\n",
    "    for s in ['random_2x','random_smac_2x']:\n",
    "        plt.plot([intervals[i] for i in indices],[searchers_test_avg[s][i] for i in indices],label=s,color=color[s],linestyle=linestyle[s],marker=marker[s])\n",
    "    plt.xlabel(xlabel)\n",
    "    plt.ylim(test_lim)\n",
    "    plt.legend(loc=1)\n",
    "    pdf_file.savefig()\n",
    "    plt.close()\n",
    "    #Charts relative to rf_baseline\n",
    "    plt.figure(figsize=(11,8.5))\n",
    "    plt.suptitle(chart_title+ ' Best Validation Accuracy (left) and Corresponding Test Accuracy (right) Relative to RF Baseline')\n",
    "    plt.subplot(121)\n",
    "    indices=range(0,len(intervals),5)\n",
    "    for s in ['smac','hyperopt','random','nvb','random_smac','nvb_smac','rf_baseline']:\n",
    "        plt.plot([intervals[i] for i in indices],[searchers_val_avg_rel[s][i] for i in indices],label=s,color=color[s],linestyle=linestyle[s])\n",
    "    for s in ['random_2x','random_smac_2x']:\n",
    "        plt.plot([intervals[i] for i in indices],[searchers_val_avg_rel[s][i] for i in indices],label=s,color=color[s],linestyle=linestyle[s],marker=marker[s])\n",
    "    plt.xlabel(xlabel)\n",
    "    plt.ylim(val_lim_rel)\n",
    "    plt.legend(loc=4)\n",
    "    plt.subplot(122)\n",
    "    for s in ['smac','hyperopt','random','nvb','random_smac','nvb_smac','rf_baseline']:\n",
    "        plt.plot([intervals[i] for i in indices],[searchers_test_avg_rel[s][i] for i in indices],label=s,color=color[s],linestyle=linestyle[s])\n",
    "    for s in ['random_2x','random_smac_2x']:\n",
    "        plt.plot([intervals[i] for i in indices],[searchers_test_avg_rel[s][i] for i in indices],label=s,color=color[s],linestyle=linestyle[s],marker=marker[s])\n",
    "    plt.xlabel(xlabel)\n",
    "    plt.ylim(test_lim_rel)\n",
    "    plt.legend(loc=4)\n",
    "    pdf_file.savefig()\n",
    "    plt.close()\n",
    "    plt.figure(figsize=(11,8.5))\n",
    "    rank_searchers=val_ranks.keys()\n",
    "    for s in [s for s in rank_searchers if s in ['smac','hyperopt','random','nvb','random_smac','nvb_smac','rf_baseline']]:\n",
    "        plt.plot([intervals[i] for i in indices],[val_ranks[s][i] for i in indices],label=s,color=color[s],linestyle=linestyle[s])\n",
    "    for s in [s for s in rank_searchers if s in  ['random_2x','random_smac_2x']]:\n",
    "        plt.plot([intervals[i] for i in indices],[val_ranks[s][i] for i in indices],label=s,color=color[s],linestyle=linestyle[s],marker=marker[s])\n",
    "    plt.title('Average Rank of '+chart_title+' Val Error Across All Datasets')\n",
    "    plt.xlabel(xlabel)\n",
    "    plt.legend(loc=1)\n",
    "    pdf_file.savefig()\n",
    "    plt.close()\n",
    "    plt.figure(figsize=(11,8.5))\n",
    "    for s in [s for s in rank_searchers if s in ['smac','hyperopt','random','nvb','random_smac','nvb_smac','rf_baseline']]:\n",
    "        plt.plot([intervals[i] for i in indices],[test_ranks[s][i] for i in indices],label=s,color=color[s],linestyle=linestyle[s])\n",
    "    for s in [s for s in rank_searchers if s in  ['random_2x','random_smac_2x']]:\n",
    "        plt.plot([intervals[i] for i in indices],[test_ranks[s][i] for i in indices],label=s,color=color[s],linestyle=linestyle[s],marker=marker[s])\n",
    "    plt.title('Average Rank of '+chart_title+' Test Error Across All Datasets')\n",
    "    plt.xlabel(xlabel)\n",
    "    plt.legend(loc=1)\n",
    "    pdf_file.savefig()\n",
    "    plt.close()\n",
    "    plt.figure(figsize=(11,8.5))\n",
    "    counts={}\n",
    "    for s in ['nvb_smac','smac','random_smac','hyperopt','nvb','random']:\n",
    "        counts[s]=[]\n",
    "        for t in range(len(intervals)):    \n",
    "            counts[s].append(len([d for d in combined_results.keys() if combined_results[d][s][3][t]<combined_results[d]['rf_baseline'][3][t]]))\n",
    "    for s in ['nvb_smac','smac','random_smac','hyperopt','nvb','random']:\n",
    "        plt.plot([intervals[i] for i in indices],[counts[s][i] for i in indices],color=color[s],linestyle=linestyle[s])\n",
    "    plt.xlabel(xlabel)\n",
    "    plt.title('Number of Datasets on which Searcher Has Lower Test Error Than RF Baseline')\n",
    "    plt.legend(loc=4)\n",
    "    plt.ylim([0,40])\n",
    "    pdf_file.savefig()\n",
    "    plt.close()\n",
    "    pdf_file.close()"
   ]
  },
  {
   "cell_type": "code",
   "execution_count": null,
   "metadata": {
    "collapsed": true
   },
   "outputs": [],
   "source": [
    "def individual_chart_error(results, is_validation,is_mean,interval_size,searchers=None,filename=None):\n",
    "    datasets=results.keys()\n",
    "    if searchers is None:\n",
    "        searchers=results[datasets[0]].keys()\n",
    "    color={'smac':'r','hyperopt':'b','nvb':'y','random':'g', 'random_2x':'g','random_3x':'g','nvb_smac':'y','random_smac':'g','random_smac_2x':'g','random_smac_3x':'g','rf_baseline':'k'}\n",
    "    linestyle={'smac':'-','hyperopt':'-','nvb':'-','random':'-', 'random_2x':'-','random_3x':'-','nvb_smac':'--','random_smac':'--','random_smac_2x':'--','random_smac_3x':'--','rf_baseline':'-'}\n",
    "    marker={'random_2x':'+','random_3x':'x','random_smac_2x':'+','random_smac_3x':'x'}\n",
    "    if is_mean:\n",
    "        test_ind=3\n",
    "        title1='Mean'\n",
    "        if filename is None:\n",
    "            filename1='individual_charts_mean'\n",
    "    else:\n",
    "        test_ind=2\n",
    "        title1='Median'\n",
    "        if filename is None:\n",
    "            filename1='individual_charts_median'\n",
    "    if is_validation:\n",
    "        ind = 1\n",
    "        if filename is None:\n",
    "            filename2='val_error.pdf'\n",
    "        title2='Best Validation Error for Dataset '\n",
    "    else:\n",
    "        ind = test_ind\n",
    "        if filename is None:\n",
    "            filename2='test_error.pdf'\n",
    "        title2='Test Error Corresponding to Best Validation Error for Dataset '\n",
    "    if filename is None:\n",
    "        pdf_file=PdfPages(filename1+filename2)\n",
    "    else:\n",
    "        pdf_file=PdfPages(filename)\n",
    "    for d in datasets:\n",
    "        x = range(interval_size-1,len(results[d]['smac'][ind+1]),interval_size)\n",
    "        indices=x\n",
    "        for s in [s for s in searchers if s in ['smac','hyperopt','random','nvb','random_smac','nvb_smac','rf_baseline']]:\n",
    "            plt.plot(x,[results[d][s][ind][i] for i in indices],color=color[s],linestyle=linestyle[s],label=s)\n",
    "            #plt.ylim([0,results[d]['rf_baseline'][ind][0]])\n",
    "        for s in [s for s in searchers if s in ['random_2x','random_smac_2x']]:\n",
    "            plt.plot(x,[results[d][s][ind][i] for i in indices],color=color[s],marker=marker[s],linestyle=linestyle[s],label=s)\n",
    "            #plt.ylim([0,results[d]['rf_baseline'][ind][0]])\n",
    "        plt.title(title1+' '+title2+str(d))\n",
    "        plt.legend(loc=1)\n",
    "        pdf_file.savefig()\n",
    "        plt.close()\n",
    "    pdf_file.close()\n",
    "            \n",
    "        \n"
   ]
  },
  {
   "cell_type": "code",
   "execution_count": 197,
   "metadata": {
    "collapsed": false
   },
   "outputs": [
    {
     "name": "stdout",
     "output_type": "stream",
     "text": [
      "['random_3x', 'random_smac_3x', 'hyperopt', 'random', 'nvb_smac', 'random_smac_2x', 'smac', 'nvb', 'random_smac', 'random_2x', 'rf_baseline']\n",
      "['random_3x', 'random_smac_3x', 'hyperopt', 'random', 'nvb_smac', 'random_smac_2x', 'smac', 'nvb', 'random_smac', 'random_2x', 'rf_baseline']\n"
     ]
    }
   ],
   "source": [
    "searchers=['smac','random','nvb','random_smac','nvb_smac','rf_baseline','hyperopt','random_2x','random_smac_2x']\n",
    "filename='./all_results_condensed.pkl'\n",
    "results=pickle.load(open(filename,'rb'))\n",
    "filename='./all_results_condensed_smac_init.pkl'\n",
    "results_smac=pickle.load(open(filename,'rb'))\n",
    "intervals=range(30,7201,30)\n",
    "combined_results=combine_results(results,results_smac,True,True)\n",
    "searchers_val_avg,searchers_test_avg=parse_results(combined_results,True,False,False)\n",
    "searchers_val_avg_rel,searchers_test_avg_rel=parse_results(combined_results,True,False,True)\n",
    "test_ranks=compute_ranks(combined_results,intervals,True,searchers)\n",
    "val_ranks=compute_ranks(combined_results,intervals,True,searchers,True)\n",
    "chart_errors(searchers_val_avg,searchers_test_avg,searchers_val_avg_rel,searchers_test_avg_rel,test_ranks,val_ranks,True,intervals,'./aggregate_mean_errors.pdf')\n",
    "individual_chart_error(combined_results,True,True,5,searchers,'./individual_mean_val_errors.pdf')\n",
    "individual_chart_error(combined_results,False,True,5,searchers,'./individual_mean_errors.pdf')\n",
    "\n",
    "\n"
   ]
  },
  {
   "cell_type": "code",
   "execution_count": 155,
   "metadata": {
    "collapsed": false
   },
   "outputs": [
    {
     "name": "stdout",
     "output_type": "stream",
     "text": [
      "['smac', 'hyperopt', 'random', 'nvb']\n"
     ]
    }
   ],
   "source": [
    "#################################ALL LINES BELOW NO LONGER USED ############################################\n",
    "#################################ALL LINES BELOW NO LONGER USED ############################################\n",
    "#################################ALL LINES BELOW NO LONGER USED ############################################\n",
    "\n",
    "filename='all_results_count_holdout.pkl'\n",
    "results=pickle.load(open(filename,'rb'))\n",
    "filename='all_results_count.pkl'\n",
    "results_cv=pickle.load(open(filename,'rb'))\n",
    "intervals=range(30,3601,30)\n",
    "color={'smac':'r','hyperopt':'b','nvb':'y','random':'g', 'random_2x':'g','random_3x':'g','nvb_smac':'y','random_smac':'g','random_smac_2x':'g','random_smac_3x':'g','rf_baseline':'k'}\n",
    "linestyle={'smac':'-','hyperopt':'-','nvb':'-','random':'-', 'random_2x':'-','random_3x':'-','nvb_smac':'--','random_smac':'--','random_smac_2x':'--','random_smac_3x':'--','rf_baseline':'-'}\n",
    "marker={'random_2x':'+','random_3x':'x','random_smac_2x':'+','random_smac_3x':'x'}\n",
    "    \n",
    "pdf_file=PdfPages('seacher_counts')\n",
    "searchers=results[results.keys()[0]].keys()\n",
    "print searchers\n",
    "searchers_count_avg={}\n",
    "for s in searchers:\n",
    "    counts=numpy.asarray([numpy.asarray(results[d][s][0]) for d in results.keys()])\n",
    "    searchers_count_avg[s]=numpy.mean(counts,axis=0)\n",
    "searchers_count_avg_cv={}\n",
    "for s in searchers:\n",
    "    counts=numpy.asarray([numpy.asarray(results_cv[d][s][0]) for d in results.keys()])\n",
    "    searchers_count_avg_cv[s]=numpy.mean(counts,axis=0)\n",
    "searchers_count_rel={}\n",
    "for s in searchers:\n",
    "    dataset_times=[]\n",
    "    for t in range(len(intervals)):\n",
    "        indices=[ n for n,i in enumerate(searchers_count_avg[s][0:len(intervals)]) if i<=searchers_count_avg_cv[s][t]]\n",
    "        if len(indices)>0:\n",
    "            dataset_times.append(intervals[indices[-1]]*1.0/intervals[t])\n",
    "        else:\n",
    "            dataset_times.append(1)\n",
    "    searchers_count_rel[s]=dataset_times\n",
    "for s in searchers:\n",
    "    plt.plot(intervals,searchers_count_avg[s][0:len(intervals)],linestyle='-',color=color[s],label=s+' holdout')\n",
    "    plt.plot(intervals,searchers_count_avg_cv[s][0:len(intervals)],linestyle='--',color=color[s],label=s+' cv')\n",
    "    plt.plot(intervals,[numpy.max(searchers_count_avg_cv[s][0:len(intervals)])]*len(intervals),linestyle=':',color=color[s])\n",
    "\n",
    "plt.legend(loc=2)\n",
    "plt.xlabel('Time (s)')\n",
    "plt.ylabel('# of Evals')\n",
    "pdf_file.savefig()\n",
    "plt.close()\n",
    "s='nvb'\n",
    "plt.plot(intervals,searchers_count_avg[s][0:len(intervals)],linestyle='-',color=color[s],label=s+' holdout')\n",
    "plt.plot(intervals,searchers_count_avg_cv[s][0:len(intervals)],linestyle='--',color=color[s],label=s+' cv')\n",
    "plt.plot(intervals,[numpy.max(searchers_count_avg_cv[s][0:len(intervals)])]*len(intervals),linestyle=':',color=color[s])\n",
    "plt.ylim(0,20)\n",
    "plt.legend(loc=2)\n",
    "plt.xlabel('Time (s)')\n",
    "plt.ylabel('# of Evals')\n",
    "#plt.show()\n",
    "pdf_file.savefig()\n",
    "plt.close()\n",
    "for s in searchers:\n",
    "    plt.plot(intervals[10:len(searchers_count_rel[s]):5],searchers_count_rel[s][10::5],linestyle='-',color=color[s],label=s)\n",
    "plt.legend(loc=2)\n",
    "#plt.ylim([0,.2])\n",
    "plt.xlabel('Time (s)')\n",
    "plt.ylabel('Ratio of time for Holdout to reach same # of evals as CV')\n",
    "pdf_file.savefig()\n",
    "plt.close()\n",
    "\n",
    "\n",
    "pdf_file.close()"
   ]
  },
  {
   "cell_type": "code",
   "execution_count": 19,
   "metadata": {
    "collapsed": false
   },
   "outputs": [
    {
     "ename": "NameError",
     "evalue": "name 'searchers' is not defined",
     "output_type": "error",
     "traceback": [
      "\u001b[1;31m---------------------------------------------------------------------------\u001b[0m",
      "\u001b[1;31mNameError\u001b[0m                                 Traceback (most recent call last)",
      "\u001b[1;32m<ipython-input-19-ef0bbab82036>\u001b[0m in \u001b[0;36m<module>\u001b[1;34m()\u001b[0m\n\u001b[0;32m      4\u001b[0m \u001b[0mdatasets\u001b[0m\u001b[1;33m.\u001b[0m\u001b[0mremove\u001b[0m\u001b[1;33m(\u001b[0m\u001b[1;36m24\u001b[0m\u001b[1;33m)\u001b[0m\u001b[1;33m\u001b[0m\u001b[0m\n\u001b[0;32m      5\u001b[0m \u001b[1;32mfor\u001b[0m \u001b[0mt\u001b[0m \u001b[1;32min\u001b[0m \u001b[0mrange\u001b[0m\u001b[1;33m(\u001b[0m\u001b[0mlen\u001b[0m\u001b[1;33m(\u001b[0m\u001b[0mintervals\u001b[0m\u001b[1;33m)\u001b[0m\u001b[1;33m)\u001b[0m\u001b[1;33m:\u001b[0m\u001b[1;33m\u001b[0m\u001b[0m\n\u001b[1;32m----> 6\u001b[1;33m     \u001b[1;32mfor\u001b[0m \u001b[0ms\u001b[0m \u001b[1;32min\u001b[0m \u001b[0msearchers\u001b[0m\u001b[1;33m:\u001b[0m\u001b[1;33m\u001b[0m\u001b[0m\n\u001b[0m\u001b[0;32m      7\u001b[0m         \u001b[0mwhich_best\u001b[0m\u001b[1;33m[\u001b[0m\u001b[0ms\u001b[0m\u001b[1;33m]\u001b[0m\u001b[1;33m[\u001b[0m\u001b[0mt\u001b[0m\u001b[1;33m]\u001b[0m\u001b[1;33m=\u001b[0m\u001b[1;33m[\u001b[0m\u001b[1;33m]\u001b[0m\u001b[1;33m\u001b[0m\u001b[0m\n\u001b[0;32m      8\u001b[0m     \u001b[1;32mfor\u001b[0m \u001b[0md\u001b[0m \u001b[1;32min\u001b[0m \u001b[0mdatasets\u001b[0m\u001b[1;33m:\u001b[0m\u001b[1;33m\u001b[0m\u001b[0m\n",
      "\u001b[1;31mNameError\u001b[0m: name 'searchers' is not defined"
     ]
    }
   ],
   "source": [
    "count_best={'smac':numpy.zeros(len(intervals)),'hyperopt':numpy.zeros(len(intervals)),'nvb':numpy.zeros(len(intervals)),'random':numpy.zeros(len(intervals))}\n",
    "which_best={'smac':{},'hyperopt':{},'nvb':{},'random':{}}\n",
    "datasets=results.keys()\n",
    "datasets.remove(24)\n",
    "for t in range(len(intervals)):\n",
    "    for s in searchers:\n",
    "        which_best[s][t]=[]\n",
    "    for d in datasets:\n",
    "        best_searcher=searchers[numpy.argmin([results[d][s][3][t] for s in searchers])]\n",
    "        t_stat=[(results[d][s][3][t]-results[d][best_searcher][3][t])/numpy.sqrt(1/10.*(results[d][s][4][t]**2+results[d][best_searcher][4][t]**2)) for s in searchers if s != best_searcher]\n",
    "        dfs = [(results[d][s][4][t]**2/10.+results[d][best_searcher][4][t]**2/10.)**2/((results[d][s][4][t]**2/10.)**2/9.+(results[d][best_searcher][4][t]**2/10.)**2/9.) for s in searchers if s != best_searcher]\n",
    "        comp_to_best=[scipy.stats.t.cdf(t_stat[s],dfs[s]) > 0.95 for s in range(3)]\n",
    "        if numpy.isnan(numpy.sum(comp_to_best)):\n",
    "            print t,d\n",
    "        \n",
    "        if sum(comp_to_best)==3:\n",
    "            count_best[best_searcher][t]+=1\n",
    "            which_best[best_searcher][t].append(d)\n",
    "        "
   ]
  },
  {
   "cell_type": "code",
   "execution_count": 132,
   "metadata": {
    "collapsed": false
   },
   "outputs": [],
   "source": [
    "d=59\n",
    "best_searcher='random'\n",
    "t=10\n",
    "t_stat=[(results[d][s][3][t]-results[d][best_searcher][3][t])/numpy.sqrt(1/10.*(results[d][s][4][t]**2+results[d][best_searcher][4][t]**2)) for s in searchers if s != best_searcher]\n",
    "dfs = [(results[d][s][4][t]**2/10.+results[d][best_searcher][4][t]**2/10.)**2/((results[d][s][4][t]**2/10.)**2/9.+(results[d][best_searcher][4][t]**2/10.)**2/9.) for s in searchers if s != best_searcher]\n",
    "comp_to_best=[scipy.stats.t.cdf(t_stat[s],dfs[s]) > 0.95 for s in range(3)]"
   ]
  },
  {
   "cell_type": "code",
   "execution_count": 38,
   "metadata": {
    "collapsed": false
   },
   "outputs": [],
   "source": []
  },
  {
   "cell_type": "code",
   "execution_count": 15,
   "metadata": {
    "collapsed": false
   },
   "outputs": [
    {
     "data": {
      "text/plain": [
       "[10, 0.0, 0.0, 1.2499199999999999, 2.4998399999999998, 0.0, 0.0]"
      ]
     },
     "execution_count": 15,
     "metadata": {},
     "output_type": "execute_result"
    }
   ],
   "source": [
    "combined_results[2]['rf_baseline']"
   ]
  },
  {
   "cell_type": "code",
   "execution_count": 168,
   "metadata": {
    "collapsed": false
   },
   "outputs": [],
   "source": [
    "#pdf_file=PdfPages('aggregate_errors.pdf')\n",
    "color={'smac':'r','hyperopt':'b','nvb':'y','random':'g'}\n",
    "plt.figure(figsize=(11,8.5))\n",
    "for s in searchers:\n",
    "    plt.plot(intervals,count_best[s][0:len(intervals)],label=s,color=color[s])\n",
    "plt.xlabel('Time (s)')\n",
    "plt.legend(loc=1)\n",
    "plt.show()"
   ]
  },
  {
   "cell_type": "code",
   "execution_count": 190,
   "metadata": {
    "collapsed": false
   },
   "outputs": [],
   "source": [
    "array=numpy.array([1,1,3,4])\n",
    "temp = array.argsort()\n",
    "ranks = numpy.empty(len(array), int)\n",
    "ranks[temp] = numpy.arange(len(array))"
   ]
  },
  {
   "cell_type": "code",
   "execution_count": 222,
   "metadata": {
    "collapsed": false
   },
   "outputs": [
    {
     "data": {
      "text/plain": [
       "['random_3x',\n",
       " 'random_2x_smac',\n",
       " 'hyperopt',\n",
       " 'random',\n",
       " 'nvb_smac',\n",
       " 'smac',\n",
       " 'nvb',\n",
       " 'random_smac',\n",
       " 'random_3x_smac',\n",
       " 'random_2x']"
      ]
     },
     "execution_count": 222,
     "metadata": {},
     "output_type": "execute_result"
    }
   ],
   "source": [
    "searchers_val_avg.keys()"
   ]
  },
  {
   "cell_type": "code",
   "execution_count": 176,
   "metadata": {
    "collapsed": false
   },
   "outputs": [
    {
     "data": {
      "text/plain": [
       "[4,\n",
       " 9,\n",
       " 14,\n",
       " 19,\n",
       " 24,\n",
       " 29,\n",
       " 34,\n",
       " 39,\n",
       " 44,\n",
       " 49,\n",
       " 54,\n",
       " 59,\n",
       " 64,\n",
       " 69,\n",
       " 74,\n",
       " 79,\n",
       " 84,\n",
       " 89,\n",
       " 94,\n",
       " 99,\n",
       " 104,\n",
       " 109,\n",
       " 114,\n",
       " 119]"
      ]
     },
     "execution_count": 176,
     "metadata": {},
     "output_type": "execute_result"
    }
   ],
   "source": [
    "range(4,120,5)"
   ]
  },
  {
   "cell_type": "code",
   "execution_count": null,
   "metadata": {
    "collapsed": true
   },
   "outputs": [],
   "source": []
  }
 ],
 "metadata": {
  "kernelspec": {
   "display_name": "Python 2",
   "language": "python",
   "name": "python2"
  },
  "language_info": {
   "codemirror_mode": {
    "name": "ipython",
    "version": 2
   },
   "file_extension": ".py",
   "mimetype": "text/x-python",
   "name": "python",
   "nbconvert_exporter": "python",
   "pygments_lexer": "ipython2",
   "version": "2.7.10"
  }
 },
 "nbformat": 4,
 "nbformat_minor": 0
}
